{
  "nbformat": 4,
  "nbformat_minor": 0,
  "metadata": {
    "colab": {
      "provenance": [],
      "authorship_tag": "ABX9TyPNXJ4CSLzQ+9TYDUZK6XEa",
      "include_colab_link": true
    },
    "kernelspec": {
      "name": "python3",
      "display_name": "Python 3"
    },
    "language_info": {
      "name": "python"
    }
  },
  "cells": [
    {
      "cell_type": "markdown",
      "metadata": {
        "id": "view-in-github",
        "colab_type": "text"
      },
      "source": [
        "<a href=\"https://colab.research.google.com/github/sriram2708/AI_ML_project/blob/main/Assignment.ipynb\" target=\"_parent\"><img src=\"https://colab.research.google.com/assets/colab-badge.svg\" alt=\"Open In Colab\"/></a>"
      ]
    },
    {
      "cell_type": "code",
      "execution_count": null,
      "metadata": {
        "id": "9UHmS3UElsY8"
      },
      "outputs": [],
      "source": [
        "# from pandas.core.window.expanding import ExpandingGroupby\n",
        "# from matplotlib.projections.polar import ThetaAxis\n",
        "# import pandas as pd\n",
        "# import numpy as np\n",
        "\n",
        "# n = int(input(\"Enter no of Patients who's Status is to be Determined :- \"))\n",
        "\n",
        "# def Prediction() :\n",
        "#   age = int(input(\"Age of the Patient :- \"))\n",
        "#   sex = int(input(\"Sex of the Patient (0 - female & 1 - male) :- \"))\n",
        "#   cp = int(input(\"Chest Pain Type\\nValue 1: typical angina\\nValue 2: atypical angina\\nValue 3: non-anginal pain\\nValue 4: asymptomatic : \\n\"))\n",
        "#   trestbps = int(input(\"Resting Blood Pressure(in mm Hg on admission to the hospital) :- \"))\n",
        "#   chol = int(input(\"Serum Cholestrol in mg/dl:- \"))\n",
        "#   fbs = int(input(\"Fasting Blood Sugar\\ntrue=1\\nfalse=0 :- \\n\"))\n",
        "#   restecg = int(input(\"Resting ElectroCardiographic Results\\nValue 0: normal\\nValue 1: having ST-T wave abnormality\\nValue 2: showing probable or definite left ventricular hypertrophy by Estes' criteria :- \\n\"))\n",
        "#   thalach = int(input(\"Maximum Heart Rate Achieved :- \"))\n",
        "#   exang = int(input(\"Exercise-include angina\\ntrue=1\\nfalse=0 :- \\n\"))\n",
        "#   oldpeak = float(input(\"ST Depression induced by Exercise relative to Rest :- \"))\n",
        "#   slope = int(input(\"Slope of Peak Exercise ST segment\\nValue 1: upsloping\\nValue 2: flat\\nValue 3: downsloping :- \\n\"))\n",
        "#   ca = int(input(\"No. of Major Vessels (0-3) :- \"))\n",
        "#   thal = int(input(\"Thalasemia Indicator :- \"))\n",
        "#   new_patient = np.array([age, sex, cp, trestbps, chol, fbs, restecg, thalach, exang, oldpeak, slope, ca, thal])\n",
        "\n",
        "#   new_patient = new_patient.reshape(1,-1) #converting to 2D array\n",
        "\n",
        "#   if clf_lr.predict(new_patient) == 0 :\n",
        "#     return \"The Patient with the above provided Vitals Dies!!!\"\n",
        "#   else :\n",
        "#     return \"The Patient with the above provided vitals Lives!!!\"\n",
        "\n",
        "# for i in range(n) :\n",
        "#   print(Prediction())"
      ]
    }
  ]
}